{
 "cells": [
  {
   "cell_type": "code",
   "execution_count": 120,
   "metadata": {},
   "outputs": [],
   "source": [
    "from langchain_core.prompts import PromptTemplate\n",
    "from langchain_core.pydantic_v1 import BaseModel, Field\n",
    "from langchain_openai import ChatOpenAI\n",
    "from typing import Literal, List\n",
    "import pandas as pd\n",
    "from tqdm import tqdm"
   ]
  },
  {
   "cell_type": "code",
   "execution_count": null,
   "metadata": {},
   "outputs": [],
   "source": [
    "api_key = '...'"
   ]
  },
  {
   "cell_type": "code",
   "execution_count": 122,
   "metadata": {},
   "outputs": [],
   "source": [
    "llm = ChatOpenAI(\n",
    "\tbase_url='https://api.proxyapi.ru/openai/v1',\n",
    "\tapi_key=api_key,\n",
    "    model=\"gpt-4o-mini\",\n",
    "    temperature=0,\n",
    "    max_tokens=None,\n",
    "    timeout=None,\n",
    "    max_retries=2)"
   ]
  },
  {
   "cell_type": "code",
   "execution_count": 123,
   "metadata": {},
   "outputs": [],
   "source": [
    "with open('../prompts/mistral_prompt.txt', 'r') as f:\n",
    "\ttemplate = f.read()\n",
    "prompt = PromptTemplate.from_template(template)\n",
    "class LLMResponse(BaseModel):\n",
    "    \"\"\"Рассуждения и класс\"\"\"\n",
    "    index: int\n",
    "    sample: str\n",
    "    reasoning: str = Field(description=\"Рассуждения перед ответа\")\n",
    "    label: Literal[\n",
    "        \"SERVICE\",\n",
    "        \"NON_FOOD_GOODS\",\n",
    "        \"LOAN\",\n",
    "        \"NOT_CLASSIFIED\",\n",
    "        \"LEASING\",\n",
    "        \"FOOD_GOODS\",\n",
    "        \"BANK_SERVICE\",\n",
    "        \"TAX\",\n",
    "        \"REALE_STATE\"\n",
    "    ] = Field(description=\"Ответ модели, класс для запроса\")\n",
    "\n",
    "class ListResponses(BaseModel):\n",
    "    answers: List[LLMResponse]\n",
    "\n",
    "structured_llm = llm.with_structured_output(ListResponses, include_raw=True)\n",
    "chain = prompt | structured_llm"
   ]
  },
  {
   "cell_type": "code",
   "execution_count": 124,
   "metadata": {},
   "outputs": [],
   "source": [
    "def func(row):\n",
    "\treturn str(row['id']) + '. ' + row['content']"
   ]
  },
  {
   "cell_type": "code",
   "execution_count": 125,
   "metadata": {},
   "outputs": [],
   "source": [
    "data = pd.read_csv('../data/payments_main.tsv', sep='\\t', names=['id', 'date', 'price', 'content'])\n",
    "data['content'] = data.apply(func, axis=1)"
   ]
  },
  {
   "cell_type": "markdown",
   "metadata": {},
   "source": [
    "### GroupInference"
   ]
  },
  {
   "cell_type": "code",
   "execution_count": 134,
   "metadata": {},
   "outputs": [
    {
     "name": "stderr",
     "output_type": "stream",
     "text": [
      "100%|██████████| 2000/2000 [3:51:35<00:00,  6.95s/it]  \n"
     ]
    }
   ],
   "source": [
    "keys = ['question1', 'question2', 'question3', 'question4', 'question5']\n",
    "llm_responses = []\n",
    "for i in tqdm(range(0, 10000, 5)):\n",
    "\tsample = data.loc[i:(i+5), :]\n",
    "\tcontent = sample['content']\n",
    "\tmapper  = dict(zip(keys, content.tolist()))\n",
    "\tanswer = chain.invoke(mapper)\n",
    "\tif answer['parsing_error'] is None:\n",
    "\t\tanswers_list = answer['parsed']\n",
    "\t\tllm_responses.extend(answers_list.answers)\n",
    "\telse:\n",
    "\t\tprint(f\"Error {answer['parsing_error']}\")"
   ]
  },
  {
   "cell_type": "code",
   "execution_count": 140,
   "metadata": {},
   "outputs": [
    {
     "data": {
      "text/plain": [
       "9996"
      ]
     },
     "execution_count": 140,
     "metadata": {},
     "output_type": "execute_result"
    }
   ],
   "source": [
    "len(llm_responses)"
   ]
  },
  {
   "cell_type": "code",
   "execution_count": 144,
   "metadata": {},
   "outputs": [
    {
     "data": {
      "text/plain": [
       "{'index': 1,\n",
       " 'sample': 'За тур.поездку по договору №001 от 27.01.2023г',\n",
       " 'reasoning': 'Описание платежа связано с туристической поездкой, что может подразумевать оплату услуг, связанных с путешествием. Однако, конкретные слова, указывающие на услуги, отсутствуют, и это может быть не совсем однозначно. Поэтому, учитывая, что это не попадает под другие классы, я отнесу это к классу NOT_CLASSIFIED.',\n",
       " 'label': 'NOT_CLASSIFIED'}"
      ]
     },
     "execution_count": 144,
     "metadata": {},
     "output_type": "execute_result"
    }
   ],
   "source": [
    "llm_responses[0].dict()"
   ]
  },
  {
   "cell_type": "code",
   "execution_count": 145,
   "metadata": {},
   "outputs": [],
   "source": [
    "responses_json = [response.dict() for response in llm_responses]"
   ]
  },
  {
   "cell_type": "code",
   "execution_count": 152,
   "metadata": {},
   "outputs": [],
   "source": [
    "import json\n",
    "with open(\"4o-mini_labels.json\", \"w\") as f:\n",
    "\tjson.dump(responses_json, f)"
   ]
  },
  {
   "cell_type": "code",
   "execution_count": 153,
   "metadata": {},
   "outputs": [],
   "source": [
    "with open(\"4o-mini_labels.json\", \"r\") as f:\n",
    "\tlabels = json.load(f)"
   ]
  },
  {
   "cell_type": "code",
   "execution_count": null,
   "metadata": {},
   "outputs": [],
   "source": []
  }
 ],
 "metadata": {
  "kernelspec": {
   "display_name": "graphs2",
   "language": "python",
   "name": "python3"
  },
  "language_info": {
   "codemirror_mode": {
    "name": "ipython",
    "version": 3
   },
   "file_extension": ".py",
   "mimetype": "text/x-python",
   "name": "python",
   "nbconvert_exporter": "python",
   "pygments_lexer": "ipython3",
   "version": "3.12.5"
  }
 },
 "nbformat": 4,
 "nbformat_minor": 2
}
